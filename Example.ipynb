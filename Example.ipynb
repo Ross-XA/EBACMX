{
 "cells": [
  {
   "cell_type": "code",
   "execution_count": null,
   "id": "2dac9f05-da27-4ecf-9998-7f2cfd5c83fc",
   "metadata": {},
   "outputs": [
    {
     "name": "stdout",
     "output_type": "stream",
     "text": [
      "60.0\n"
     ]
    }
   ],
   "source": [
    "# Python test\n",
    "# We added a division by 5\n",
    "a = 10\n",
    "b = 30\n",
    "c = 30 * 10 / 5\n",
    "print(c)"
   ]
  },
  {
   "cell_type": "code",
   "execution_count": null,
   "id": "952224db-1762-4e94-b39b-10c81f2c0c2b",
   "metadata": {},
   "outputs": [],
   "source": []
  }
 ],
 "metadata": {
  "kernelspec": {
   "display_name": "base",
   "language": "python",
   "name": "python3"
  },
  "language_info": {
   "codemirror_mode": {
    "name": "ipython",
    "version": 3
   },
   "file_extension": ".py",
   "mimetype": "text/x-python",
   "name": "python",
   "nbconvert_exporter": "python",
   "pygments_lexer": "ipython3",
   "version": "3.12.4"
  }
 },
 "nbformat": 4,
 "nbformat_minor": 5
}
